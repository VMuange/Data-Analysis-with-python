{
 "cells": [
  {
   "cell_type": "markdown",
   "id": "f874cf0d",
   "metadata": {},
   "source": [
    "# 1. Data Types"
   ]
  },
  {
   "cell_type": "code",
   "execution_count": 1,
   "id": "226851c7",
   "metadata": {},
   "outputs": [
    {
     "data": {
      "text/plain": [
       "int"
      ]
     },
     "execution_count": 1,
     "metadata": {},
     "output_type": "execute_result"
    }
   ],
   "source": [
    "type(1)"
   ]
  },
  {
   "cell_type": "code",
   "execution_count": 2,
   "id": "db9cb1f5",
   "metadata": {},
   "outputs": [
    {
     "data": {
      "text/plain": [
       "float"
      ]
     },
     "execution_count": 2,
     "metadata": {},
     "output_type": "execute_result"
    }
   ],
   "source": [
    "type(1.6)"
   ]
  },
  {
   "cell_type": "code",
   "execution_count": 3,
   "id": "12234ebc",
   "metadata": {},
   "outputs": [
    {
     "data": {
      "text/plain": [
       "bool"
      ]
     },
     "execution_count": 3,
     "metadata": {},
     "output_type": "execute_result"
    }
   ],
   "source": [
    "type(True)"
   ]
  },
  {
   "cell_type": "code",
   "execution_count": 4,
   "id": "88a8b2c4",
   "metadata": {},
   "outputs": [
    {
     "data": {
      "text/plain": [
       "str"
      ]
     },
     "execution_count": 4,
     "metadata": {},
     "output_type": "execute_result"
    }
   ],
   "source": [
    "type(\"Hello\")"
   ]
  },
  {
   "cell_type": "code",
   "execution_count": 5,
   "id": "46c21c5f",
   "metadata": {},
   "outputs": [
    {
     "data": {
      "text/plain": [
       "'HELLO'"
      ]
     },
     "execution_count": 5,
     "metadata": {},
     "output_type": "execute_result"
    }
   ],
   "source": [
    "\"Hello\".upper() #This is a string method. Check link for more: https://www.w3schools.com/python/python_ref_string.asp"
   ]
  },
  {
   "cell_type": "markdown",
   "id": "cfad9498",
   "metadata": {},
   "source": [
    "# 2. Variables"
   ]
  },
  {
   "cell_type": "code",
   "execution_count": 6,
   "id": "654c2d8f",
   "metadata": {},
   "outputs": [
    {
     "name": "stdout",
     "output_type": "stream",
     "text": [
      "I like writing python code. It's fun.\n"
     ]
    }
   ],
   "source": [
    "a = 'I like writing python code.'\n",
    "b = \"It's fun.\"\n",
    "print(a,b)"
   ]
  },
  {
   "cell_type": "code",
   "execution_count": 7,
   "id": "11b641bb",
   "metadata": {},
   "outputs": [
    {
     "data": {
      "text/plain": [
       "\"I like writing python code. It's fun.\""
      ]
     },
     "execution_count": 7,
     "metadata": {},
     "output_type": "execute_result"
    }
   ],
   "source": [
    "# String concatenation using f\n",
    "f'{a} {b}'"
   ]
  },
  {
   "cell_type": "markdown",
   "id": "98708990",
   "metadata": {},
   "source": [
    "# 3. Lists\n",
    "Are used to store multiple items in a single variable"
   ]
  },
  {
   "cell_type": "code",
   "execution_count": 8,
   "id": "cbcd386c",
   "metadata": {},
   "outputs": [],
   "source": [
    "countries = ['Kenya', 'Tanzania', 'Rwanda', 'Eritrea']"
   ]
  },
  {
   "cell_type": "code",
   "execution_count": 9,
   "id": "ebfc0c11",
   "metadata": {},
   "outputs": [
    {
     "data": {
      "text/plain": [
       "['Kenya', 'Tanzania', 'Rwanda', 'Eritrea']"
      ]
     },
     "execution_count": 9,
     "metadata": {},
     "output_type": "execute_result"
    }
   ],
   "source": [
    "countries"
   ]
  },
  {
   "cell_type": "code",
   "execution_count": 10,
   "id": "0ecd1500",
   "metadata": {},
   "outputs": [
    {
     "name": "stdout",
     "output_type": "stream",
     "text": [
      "Kenya\n",
      "Tanzania\n",
      "Rwanda\n",
      "Eritrea\n"
     ]
    }
   ],
   "source": [
    "# You use indexing to get elements in a list\n",
    "\n",
    "print(countries[0])\n",
    "print(countries[1])\n",
    "print(countries[2])\n",
    "print(countries[3])"
   ]
  },
  {
   "cell_type": "code",
   "execution_count": 11,
   "id": "2f417b9d",
   "metadata": {},
   "outputs": [
    {
     "name": "stdout",
     "output_type": "stream",
     "text": [
      "Eritrea\n",
      "Rwanda\n",
      "Tanzania\n",
      "Kenya\n"
     ]
    }
   ],
   "source": [
    "# Using negative indexing to get elements starting with the last\n",
    "\n",
    "print(countries[-1])\n",
    "print(countries[-2])\n",
    "print(countries[-3])\n",
    "print(countries[-4])"
   ]
  },
  {
   "cell_type": "code",
   "execution_count": 12,
   "id": "c98731fe",
   "metadata": {},
   "outputs": [
    {
     "data": {
      "text/plain": [
       "['Tanzania', 'Rwanda']"
      ]
     },
     "execution_count": 12,
     "metadata": {},
     "output_type": "execute_result"
    }
   ],
   "source": [
    "# Slicing means accessing parts of a list\n",
    "# The last number is usually not included in the result\n",
    "\n",
    "countries[1:3]"
   ]
  },
  {
   "cell_type": "code",
   "execution_count": 13,
   "id": "2c3c8e97",
   "metadata": {},
   "outputs": [
    {
     "data": {
      "text/plain": [
       "['Kenya', 'Tanzania', 'Rwanda']"
      ]
     },
     "execution_count": 13,
     "metadata": {},
     "output_type": "execute_result"
    }
   ],
   "source": [
    "countries[-4:-1]"
   ]
  },
  {
   "cell_type": "code",
   "execution_count": 14,
   "id": "8ba6adb4",
   "metadata": {},
   "outputs": [
    {
     "data": {
      "text/plain": [
       "['Kenya', 'Tanzania', 'Rwanda']"
      ]
     },
     "execution_count": 14,
     "metadata": {},
     "output_type": "execute_result"
    }
   ],
   "source": [
    "countries[:3]"
   ]
  },
  {
   "cell_type": "code",
   "execution_count": 15,
   "id": "a797f2f5",
   "metadata": {},
   "outputs": [
    {
     "data": {
      "text/plain": [
       "['Kenya', 'Tanzania', 'Rwanda', 'Eritrea']"
      ]
     },
     "execution_count": 15,
     "metadata": {},
     "output_type": "execute_result"
    }
   ],
   "source": [
    "countries[:]"
   ]
  },
  {
   "cell_type": "markdown",
   "id": "df621000",
   "metadata": {},
   "source": [
    "## 3.0.1 Adding elements to a list"
   ]
  },
  {
   "cell_type": "code",
   "execution_count": 16,
   "id": "fb00ffac",
   "metadata": {},
   "outputs": [
    {
     "data": {
      "text/plain": [
       "['Kenya', 'Tanzania', 'Rwanda', 'Eritrea']"
      ]
     },
     "execution_count": 16,
     "metadata": {},
     "output_type": "execute_result"
    }
   ],
   "source": [
    "countries"
   ]
  },
  {
   "cell_type": "code",
   "execution_count": 17,
   "id": "471d73d6",
   "metadata": {},
   "outputs": [
    {
     "data": {
      "text/plain": [
       "['Kenya', 'Tanzania', 'Rwanda', 'Eritrea', 'Ghana']"
      ]
     },
     "execution_count": 17,
     "metadata": {},
     "output_type": "execute_result"
    }
   ],
   "source": [
    "countries.append('Ghana')\n",
    "countries"
   ]
  },
  {
   "cell_type": "code",
   "execution_count": 18,
   "id": "27932739",
   "metadata": {},
   "outputs": [
    {
     "data": {
      "text/plain": [
       "['Kenya', 'Tanzania', 'Morocco', 'Rwanda', 'Eritrea', 'Ghana']"
      ]
     },
     "execution_count": 18,
     "metadata": {},
     "output_type": "execute_result"
    }
   ],
   "source": [
    "countries.insert(2, 'Morocco')\n",
    "countries"
   ]
  },
  {
   "cell_type": "code",
   "execution_count": 19,
   "id": "643b889c",
   "metadata": {},
   "outputs": [
    {
     "data": {
      "text/plain": [
       "['Kenya',\n",
       " 'Tanzania',\n",
       " 'Morocco',\n",
       " 'Rwanda',\n",
       " 'Eritrea',\n",
       " 'Ghana',\n",
       " 'Libya',\n",
       " 'Ethiopia',\n",
       " 'Uganda']"
      ]
     },
     "execution_count": 19,
     "metadata": {},
     "output_type": "execute_result"
    }
   ],
   "source": [
    "countries.extend(['Libya','Ethiopia','Uganda'])\n",
    "countries"
   ]
  },
  {
   "cell_type": "code",
   "execution_count": 20,
   "id": "d712dec2",
   "metadata": {},
   "outputs": [
    {
     "data": {
      "text/plain": [
       "['China', 'Russia', 'Australia']"
      ]
     },
     "execution_count": 20,
     "metadata": {},
     "output_type": "execute_result"
    }
   ],
   "source": [
    "countries_2 = ['China', 'Russia', 'Australia']\n",
    "countries_2"
   ]
  },
  {
   "cell_type": "code",
   "execution_count": 21,
   "id": "69b3267b",
   "metadata": {},
   "outputs": [],
   "source": [
    "countries_final = countries + countries_2"
   ]
  },
  {
   "cell_type": "code",
   "execution_count": 22,
   "id": "e677f612",
   "metadata": {},
   "outputs": [
    {
     "data": {
      "text/plain": [
       "[['Kenya',\n",
       "  'Tanzania',\n",
       "  'Morocco',\n",
       "  'Rwanda',\n",
       "  'Eritrea',\n",
       "  'Ghana',\n",
       "  'Libya',\n",
       "  'Ethiopia',\n",
       "  'Uganda'],\n",
       " ['China', 'Russia', 'Australia']]"
      ]
     },
     "execution_count": 22,
     "metadata": {},
     "output_type": "execute_result"
    }
   ],
   "source": [
    "nested_list = [countries, countries_2]\n",
    "nested_list"
   ]
  },
  {
   "cell_type": "markdown",
   "id": "06c4edb1",
   "metadata": {},
   "source": [
    "## 3.0.2 Removing elements from lists"
   ]
  },
  {
   "cell_type": "code",
   "execution_count": 23,
   "id": "08256098",
   "metadata": {},
   "outputs": [
    {
     "data": {
      "text/plain": [
       "['Kenya',\n",
       " 'Tanzania',\n",
       " 'Morocco',\n",
       " 'Rwanda',\n",
       " 'Eritrea',\n",
       " 'Ghana',\n",
       " 'Libya',\n",
       " 'Ethiopia',\n",
       " 'Uganda',\n",
       " 'China',\n",
       " 'Russia',\n",
       " 'Australia']"
      ]
     },
     "execution_count": 23,
     "metadata": {},
     "output_type": "execute_result"
    }
   ],
   "source": [
    "countries_final"
   ]
  },
  {
   "cell_type": "code",
   "execution_count": 24,
   "id": "688dba75",
   "metadata": {},
   "outputs": [
    {
     "data": {
      "text/plain": [
       "['Kenya',\n",
       " 'Tanzania',\n",
       " 'Morocco',\n",
       " 'Rwanda',\n",
       " 'Eritrea',\n",
       " 'Ghana',\n",
       " 'Libya',\n",
       " 'Ethiopia',\n",
       " 'Uganda',\n",
       " 'China',\n",
       " 'Russia']"
      ]
     },
     "execution_count": 24,
     "metadata": {},
     "output_type": "execute_result"
    }
   ],
   "source": [
    "countries_final.remove('Australia')\n",
    "countries_final"
   ]
  },
  {
   "cell_type": "code",
   "execution_count": 25,
   "id": "f84bc28f",
   "metadata": {},
   "outputs": [
    {
     "data": {
      "text/plain": [
       "['Kenya',\n",
       " 'Tanzania',\n",
       " 'Rwanda',\n",
       " 'Eritrea',\n",
       " 'Ghana',\n",
       " 'Libya',\n",
       " 'Ethiopia',\n",
       " 'Uganda',\n",
       " 'China',\n",
       " 'Russia']"
      ]
     },
     "execution_count": 25,
     "metadata": {},
     "output_type": "execute_result"
    }
   ],
   "source": [
    "countries_final.pop(2)\n",
    "countries_final"
   ]
  },
  {
   "cell_type": "code",
   "execution_count": 26,
   "id": "e7ada2a2",
   "metadata": {},
   "outputs": [],
   "source": [
    "del countries_final[4:10]"
   ]
  },
  {
   "cell_type": "code",
   "execution_count": 27,
   "id": "6fd0526e",
   "metadata": {},
   "outputs": [
    {
     "data": {
      "text/plain": [
       "['Kenya', 'Tanzania', 'Rwanda', 'Eritrea']"
      ]
     },
     "execution_count": 27,
     "metadata": {},
     "output_type": "execute_result"
    }
   ],
   "source": [
    "countries_final"
   ]
  },
  {
   "cell_type": "markdown",
   "id": "f888b172",
   "metadata": {},
   "source": [
    "## 3.0.3 Sorting a list"
   ]
  },
  {
   "cell_type": "code",
   "execution_count": 28,
   "id": "f0a5cf1a",
   "metadata": {},
   "outputs": [],
   "source": [
    "numbers = [1,5,2,7,4,5,2,9,0]\n",
    "numbers.sort()"
   ]
  },
  {
   "cell_type": "code",
   "execution_count": 29,
   "id": "1c7ca41d",
   "metadata": {},
   "outputs": [
    {
     "data": {
      "text/plain": [
       "[0, 1, 2, 2, 4, 5, 5, 7, 9]"
      ]
     },
     "execution_count": 29,
     "metadata": {},
     "output_type": "execute_result"
    }
   ],
   "source": [
    "numbers"
   ]
  },
  {
   "cell_type": "code",
   "execution_count": 30,
   "id": "f883e778",
   "metadata": {},
   "outputs": [
    {
     "data": {
      "text/plain": [
       "[9, 7, 5, 5, 4, 2, 2, 1, 0]"
      ]
     },
     "execution_count": 30,
     "metadata": {},
     "output_type": "execute_result"
    }
   ],
   "source": [
    "numbers.sort(reverse=True)\n",
    "numbers"
   ]
  },
  {
   "cell_type": "code",
   "execution_count": 31,
   "id": "a51fe452",
   "metadata": {},
   "outputs": [
    {
     "data": {
      "text/plain": [
       "['a', 'b', 'd', 'g', 'k', 'q', 's', 'u']"
      ]
     },
     "execution_count": 31,
     "metadata": {},
     "output_type": "execute_result"
    }
   ],
   "source": [
    "letters = ['a','b','d','s','u','k','g','q']\n",
    "letters.sort()\n",
    "letters"
   ]
  },
  {
   "cell_type": "markdown",
   "id": "98c2af12",
   "metadata": {},
   "source": [
    "## 3.0.4 Updating an element in a list"
   ]
  },
  {
   "cell_type": "code",
   "execution_count": 32,
   "id": "37cfae0a",
   "metadata": {},
   "outputs": [
    {
     "data": {
      "text/plain": [
       "[9, 7, 5, 5, 4, 2, 2, 1, 0]"
      ]
     },
     "execution_count": 32,
     "metadata": {},
     "output_type": "execute_result"
    }
   ],
   "source": [
    "numbers"
   ]
  },
  {
   "cell_type": "code",
   "execution_count": 33,
   "id": "e39c13a1",
   "metadata": {},
   "outputs": [
    {
     "data": {
      "text/plain": [
       "[9, 7, 5, 6, 4, 2, 2, 1, 0]"
      ]
     },
     "execution_count": 33,
     "metadata": {},
     "output_type": "execute_result"
    }
   ],
   "source": [
    "numbers [3] = 6\n",
    "numbers"
   ]
  },
  {
   "cell_type": "markdown",
   "id": "d4baf523",
   "metadata": {},
   "source": [
    "## 3.0.5 Creating a copy of a list"
   ]
  },
  {
   "cell_type": "code",
   "execution_count": 34,
   "id": "5808b937",
   "metadata": {},
   "outputs": [
    {
     "data": {
      "text/plain": [
       "['Kenya', 'Tanzania', 'Rwanda', 'Eritrea']"
      ]
     },
     "execution_count": 34,
     "metadata": {},
     "output_type": "execute_result"
    }
   ],
   "source": [
    "countries = ['Kenya', 'Tanzania', 'Rwanda', 'Eritrea']\n",
    "countries"
   ]
  },
  {
   "cell_type": "code",
   "execution_count": 35,
   "id": "c7b09525",
   "metadata": {},
   "outputs": [],
   "source": [
    "countries_copy = countries[:]"
   ]
  },
  {
   "cell_type": "code",
   "execution_count": 36,
   "id": "fbb685bc",
   "metadata": {},
   "outputs": [
    {
     "data": {
      "text/plain": [
       "['Kenya', 'Tanzania', 'Rwanda', 'Eritrea']"
      ]
     },
     "execution_count": 36,
     "metadata": {},
     "output_type": "execute_result"
    }
   ],
   "source": [
    "countries_copy"
   ]
  },
  {
   "cell_type": "code",
   "execution_count": 37,
   "id": "c9d13af0",
   "metadata": {},
   "outputs": [
    {
     "data": {
      "text/plain": [
       "['Kenya', 'Tanzania', 'Rwanda', 'Eritrea']"
      ]
     },
     "execution_count": 37,
     "metadata": {},
     "output_type": "execute_result"
    }
   ],
   "source": [
    "new_list = countries.copy()\n",
    "new_list"
   ]
  },
  {
   "cell_type": "markdown",
   "id": "20980c51",
   "metadata": {},
   "source": [
    "# 4. Dictionaries"
   ]
  },
  {
   "cell_type": "code",
   "execution_count": 38,
   "id": "ecb71099",
   "metadata": {},
   "outputs": [],
   "source": [
    "my_data = {'Name':'Victor', 'Age':26}"
   ]
  },
  {
   "cell_type": "code",
   "execution_count": 39,
   "id": "5066a5b0",
   "metadata": {},
   "outputs": [
    {
     "data": {
      "text/plain": [
       "{'Name': 'Victor', 'Age': 26}"
      ]
     },
     "execution_count": 39,
     "metadata": {},
     "output_type": "execute_result"
    }
   ],
   "source": [
    "my_data"
   ]
  },
  {
   "cell_type": "code",
   "execution_count": 40,
   "id": "583cac17",
   "metadata": {},
   "outputs": [
    {
     "data": {
      "text/plain": [
       "dict_keys(['Name', 'Age'])"
      ]
     },
     "execution_count": 40,
     "metadata": {},
     "output_type": "execute_result"
    }
   ],
   "source": [
    "my_data.keys()"
   ]
  },
  {
   "cell_type": "code",
   "execution_count": 41,
   "id": "7020a80c",
   "metadata": {},
   "outputs": [
    {
     "data": {
      "text/plain": [
       "dict_values(['Victor', 26])"
      ]
     },
     "execution_count": 41,
     "metadata": {},
     "output_type": "execute_result"
    }
   ],
   "source": [
    "my_data.values()"
   ]
  },
  {
   "cell_type": "code",
   "execution_count": 42,
   "id": "b068541b",
   "metadata": {},
   "outputs": [
    {
     "data": {
      "text/plain": [
       "dict_items([('Name', 'Victor'), ('Age', 26)])"
      ]
     },
     "execution_count": 42,
     "metadata": {},
     "output_type": "execute_result"
    }
   ],
   "source": [
    "my_data.items()"
   ]
  },
  {
   "cell_type": "markdown",
   "id": "75444a93",
   "metadata": {},
   "source": [
    "## 4.0.1 Adding new item in a dictionary"
   ]
  },
  {
   "cell_type": "code",
   "execution_count": 43,
   "id": "1a9e434f",
   "metadata": {},
   "outputs": [],
   "source": [
    "my_data['height'] = 1.6"
   ]
  },
  {
   "cell_type": "code",
   "execution_count": 44,
   "id": "bec57d34",
   "metadata": {},
   "outputs": [
    {
     "data": {
      "text/plain": [
       "{'Name': 'Victor', 'Age': 26, 'height': 1.6}"
      ]
     },
     "execution_count": 44,
     "metadata": {},
     "output_type": "execute_result"
    }
   ],
   "source": [
    "my_data"
   ]
  },
  {
   "cell_type": "code",
   "execution_count": 45,
   "id": "5ef218ed",
   "metadata": {},
   "outputs": [],
   "source": [
    "my_data.update({'height':1.7})"
   ]
  },
  {
   "cell_type": "code",
   "execution_count": 46,
   "id": "1c609683",
   "metadata": {},
   "outputs": [
    {
     "data": {
      "text/plain": [
       "{'Name': 'Victor', 'Age': 26, 'height': 1.7}"
      ]
     },
     "execution_count": 46,
     "metadata": {},
     "output_type": "execute_result"
    }
   ],
   "source": [
    "my_data"
   ]
  },
  {
   "cell_type": "markdown",
   "id": "e2537766",
   "metadata": {},
   "source": [
    "## 4.0.2 Copy of a dictionary"
   ]
  },
  {
   "cell_type": "code",
   "execution_count": 47,
   "id": "9baf9621",
   "metadata": {},
   "outputs": [],
   "source": [
    "new_dict = my_data.copy()"
   ]
  },
  {
   "cell_type": "code",
   "execution_count": 48,
   "id": "eaf2af93",
   "metadata": {},
   "outputs": [
    {
     "data": {
      "text/plain": [
       "{'Name': 'Victor', 'Age': 26, 'height': 1.7}"
      ]
     },
     "execution_count": 48,
     "metadata": {},
     "output_type": "execute_result"
    }
   ],
   "source": [
    "new_dict"
   ]
  },
  {
   "cell_type": "markdown",
   "id": "2e6e07e1",
   "metadata": {},
   "source": [
    "## 4.0.3 Remove elements from dictionary"
   ]
  },
  {
   "cell_type": "code",
   "execution_count": 49,
   "id": "3b237c5d",
   "metadata": {},
   "outputs": [
    {
     "data": {
      "text/plain": [
       "1.7"
      ]
     },
     "execution_count": 49,
     "metadata": {},
     "output_type": "execute_result"
    }
   ],
   "source": [
    "my_data.pop('height')"
   ]
  },
  {
   "cell_type": "code",
   "execution_count": 50,
   "id": "0e837acb",
   "metadata": {},
   "outputs": [
    {
     "data": {
      "text/plain": [
       "{'Name': 'Victor', 'Age': 26}"
      ]
     },
     "execution_count": 50,
     "metadata": {},
     "output_type": "execute_result"
    }
   ],
   "source": [
    "my_data"
   ]
  },
  {
   "cell_type": "code",
   "execution_count": 51,
   "id": "c8943dae",
   "metadata": {},
   "outputs": [],
   "source": [
    "del my_data['Age']"
   ]
  },
  {
   "cell_type": "code",
   "execution_count": 52,
   "id": "ecad988f",
   "metadata": {},
   "outputs": [
    {
     "data": {
      "text/plain": [
       "{'Name': 'Victor'}"
      ]
     },
     "execution_count": 52,
     "metadata": {},
     "output_type": "execute_result"
    }
   ],
   "source": [
    "my_data"
   ]
  },
  {
   "cell_type": "code",
   "execution_count": 53,
   "id": "6757180d",
   "metadata": {},
   "outputs": [],
   "source": [
    "my_data.clear()"
   ]
  },
  {
   "cell_type": "code",
   "execution_count": 54,
   "id": "70fce046",
   "metadata": {},
   "outputs": [
    {
     "data": {
      "text/plain": [
       "{}"
      ]
     },
     "execution_count": 54,
     "metadata": {},
     "output_type": "execute_result"
    }
   ],
   "source": [
    "my_data"
   ]
  },
  {
   "cell_type": "markdown",
   "id": "f68e4bc4",
   "metadata": {},
   "source": [
    "# 5. If Statement"
   ]
  },
  {
   "cell_type": "code",
   "execution_count": 55,
   "id": "6cf039a7",
   "metadata": {},
   "outputs": [
    {
     "name": "stdout",
     "output_type": "stream",
     "text": [
      "What's your age? 23\n",
      "You're an adult\n"
     ]
    }
   ],
   "source": [
    "age = int(input(\"What's your age? \"))\n",
    "\n",
    "if age>= 18:\n",
    "    print(\"You're an adult\")\n",
    "elif age >= 13:\n",
    "    print(\"You're a teenager\")\n",
    "elif age <0:\n",
    "    print(\"Age cannot be a negative number\")\n",
    "else:\n",
    "    print(\"You're a kid\")"
   ]
  },
  {
   "cell_type": "markdown",
   "id": "abdf8a61",
   "metadata": {},
   "source": [
    "# 6. For loops"
   ]
  },
  {
   "cell_type": "code",
   "execution_count": 56,
   "id": "d3ee1c7e",
   "metadata": {},
   "outputs": [
    {
     "data": {
      "text/plain": [
       "['Kenya', 'Tanzania', 'Rwanda', 'Eritrea']"
      ]
     },
     "execution_count": 56,
     "metadata": {},
     "output_type": "execute_result"
    }
   ],
   "source": [
    "countries"
   ]
  },
  {
   "cell_type": "code",
   "execution_count": 57,
   "id": "441f7755",
   "metadata": {},
   "outputs": [
    {
     "name": "stdout",
     "output_type": "stream",
     "text": [
      "Kenya\n",
      "Tanzania\n",
      "Rwanda\n",
      "Eritrea\n"
     ]
    }
   ],
   "source": [
    "for country in countries:\n",
    "    print(country)"
   ]
  },
  {
   "cell_type": "code",
   "execution_count": 58,
   "id": "ef2a3a16",
   "metadata": {},
   "outputs": [
    {
     "name": "stdout",
     "output_type": "stream",
     "text": [
      "0 Kenya\n",
      "1 Tanzania\n",
      "2 Rwanda\n",
      "3 Eritrea\n"
     ]
    }
   ],
   "source": [
    "for i, country in enumerate(countries):\n",
    "    print(i, country)"
   ]
  },
  {
   "cell_type": "code",
   "execution_count": 59,
   "id": "bd3f77ad",
   "metadata": {},
   "outputs": [],
   "source": [
    "my_data.update({'Name':'Victor', 'Age':26, 'Height':1.7})"
   ]
  },
  {
   "cell_type": "code",
   "execution_count": 60,
   "id": "9f78f06c",
   "metadata": {},
   "outputs": [
    {
     "data": {
      "text/plain": [
       "{'Name': 'Victor', 'Age': 26, 'Height': 1.7}"
      ]
     },
     "execution_count": 60,
     "metadata": {},
     "output_type": "execute_result"
    }
   ],
   "source": [
    "my_data"
   ]
  },
  {
   "cell_type": "code",
   "execution_count": 61,
   "id": "b6e6af0f",
   "metadata": {},
   "outputs": [
    {
     "name": "stdout",
     "output_type": "stream",
     "text": [
      "Name Victor\n",
      "Age 26\n",
      "Height 1.7\n"
     ]
    }
   ],
   "source": [
    "for key, value in my_data.items():\n",
    "    print(key, value)"
   ]
  },
  {
   "cell_type": "markdown",
   "id": "6e175490",
   "metadata": {},
   "source": [
    "# 7.Functions"
   ]
  },
  {
   "cell_type": "code",
   "execution_count": 62,
   "id": "d6a1fafe",
   "metadata": {},
   "outputs": [],
   "source": [
    "def sum_values(a,b):\n",
    "    x= a+b\n",
    "    return x"
   ]
  },
  {
   "cell_type": "code",
   "execution_count": 63,
   "id": "0c928821",
   "metadata": {},
   "outputs": [
    {
     "data": {
      "text/plain": [
       "25"
      ]
     },
     "execution_count": 63,
     "metadata": {},
     "output_type": "execute_result"
    }
   ],
   "source": [
    "sum_values(23,2)"
   ]
  },
  {
   "cell_type": "markdown",
   "id": "e76fc80e",
   "metadata": {},
   "source": [
    "## 7.0.1 Built in functions"
   ]
  },
  {
   "cell_type": "code",
   "execution_count": 64,
   "id": "d7864560",
   "metadata": {},
   "outputs": [
    {
     "data": {
      "text/plain": [
       "-5"
      ]
     },
     "execution_count": 64,
     "metadata": {},
     "output_type": "execute_result"
    }
   ],
   "source": [
    "min([18,3,91,0.9,-5])"
   ]
  },
  {
   "cell_type": "code",
   "execution_count": 65,
   "id": "62b9a477",
   "metadata": {},
   "outputs": [
    {
     "data": {
      "text/plain": [
       "4"
      ]
     },
     "execution_count": 65,
     "metadata": {},
     "output_type": "execute_result"
    }
   ],
   "source": [
    "len(countries)"
   ]
  },
  {
   "cell_type": "code",
   "execution_count": 66,
   "id": "52161f77",
   "metadata": {},
   "outputs": [
    {
     "data": {
      "text/plain": [
       "dict"
      ]
     },
     "execution_count": 66,
     "metadata": {},
     "output_type": "execute_result"
    }
   ],
   "source": [
    "type(my_data)"
   ]
  },
  {
   "cell_type": "code",
   "execution_count": 67,
   "id": "09f032f8",
   "metadata": {},
   "outputs": [
    {
     "name": "stdout",
     "output_type": "stream",
     "text": [
      "1\n",
      "4\n",
      "7\n",
      "10\n",
      "13\n",
      "16\n",
      "19\n"
     ]
    }
   ],
   "source": [
    "for i in range(1,20,3):\n",
    "    print (i)"
   ]
  },
  {
   "cell_type": "markdown",
   "id": "34549bd8",
   "metadata": {},
   "source": [
    "# 8. Modules"
   ]
  },
  {
   "cell_type": "code",
   "execution_count": 68,
   "id": "ae0fbb46",
   "metadata": {},
   "outputs": [],
   "source": [
    "import os"
   ]
  },
  {
   "cell_type": "code",
   "execution_count": 69,
   "id": "75d93893",
   "metadata": {},
   "outputs": [
    {
     "data": {
      "text/plain": [
       "'C:\\\\Users\\\\Muange\\\\Python Data Analysis for Excel Users'"
      ]
     },
     "execution_count": 69,
     "metadata": {},
     "output_type": "execute_result"
    }
   ],
   "source": [
    "os.getcwd() #cwd is current working directory.\n",
    "            # It returns the directory you are working on."
   ]
  },
  {
   "cell_type": "code",
   "execution_count": 70,
   "id": "7d8fee8d",
   "metadata": {},
   "outputs": [
    {
     "data": {
      "text/plain": [
       "['.ipynb_checkpoints',\n",
       " 'Module 1- Basics.ipynb',\n",
       " 'Module 2 Introduction to pandas.ipynb',\n",
       " 'Module 3 Pivot tables and Visualisation in Pandas.ipynb']"
      ]
     },
     "execution_count": 70,
     "metadata": {},
     "output_type": "execute_result"
    }
   ],
   "source": [
    "os.listdir() #Lists the files and folders in the directory."
   ]
  },
  {
   "cell_type": "code",
   "execution_count": 71,
   "id": "49ded8af",
   "metadata": {},
   "outputs": [],
   "source": [
    "os.makedirs(\"New Folder\") #Creates new file inside the directory that has provided name."
   ]
  },
  {
   "cell_type": "code",
   "execution_count": 72,
   "id": "8fbc948e",
   "metadata": {},
   "outputs": [
    {
     "data": {
      "text/plain": [
       "['.ipynb_checkpoints',\n",
       " 'Module 1- Basics.ipynb',\n",
       " 'Module 2 Introduction to pandas.ipynb',\n",
       " 'Module 3 Pivot tables and Visualisation in Pandas.ipynb',\n",
       " 'New Folder']"
      ]
     },
     "execution_count": 72,
     "metadata": {},
     "output_type": "execute_result"
    }
   ],
   "source": [
    "os.listdir() #Lists the files and folders in the directory."
   ]
  },
  {
   "cell_type": "code",
   "execution_count": 73,
   "id": "e802dc18",
   "metadata": {},
   "outputs": [],
   "source": [
    "os.rmdir(\"New Folder\") # Removes folder named."
   ]
  },
  {
   "cell_type": "code",
   "execution_count": 74,
   "id": "6b23397b",
   "metadata": {},
   "outputs": [
    {
     "data": {
      "text/plain": [
       "['.ipynb_checkpoints',\n",
       " 'Module 1- Basics.ipynb',\n",
       " 'Module 2 Introduction to pandas.ipynb',\n",
       " 'Module 3 Pivot tables and Visualisation in Pandas.ipynb']"
      ]
     },
     "execution_count": 74,
     "metadata": {},
     "output_type": "execute_result"
    }
   ],
   "source": [
    "os.listdir() #Lists the files and folders in the directory."
   ]
  },
  {
   "cell_type": "code",
   "execution_count": null,
   "id": "43a5f9ae",
   "metadata": {},
   "outputs": [],
   "source": []
  }
 ],
 "metadata": {
  "kernelspec": {
   "display_name": "Python 3 (ipykernel)",
   "language": "python",
   "name": "python3"
  },
  "language_info": {
   "codemirror_mode": {
    "name": "ipython",
    "version": 3
   },
   "file_extension": ".py",
   "mimetype": "text/x-python",
   "name": "python",
   "nbconvert_exporter": "python",
   "pygments_lexer": "ipython3",
   "version": "3.9.7"
  }
 },
 "nbformat": 4,
 "nbformat_minor": 5
}
